{
 "cells": [
  {
   "cell_type": "markdown",
   "id": "5f0c4e4b",
   "metadata": {},
   "source": [
    "# Testing your Environment\n",
    "\n",
    "Try running the following cells to make sure you have everything correctly installed."
   ]
  },
  {
   "cell_type": "code",
   "execution_count": null,
   "id": "b9169d3f",
   "metadata": {},
   "outputs": [],
   "source": [
    "# First let's check your Python version\n",
    "\n",
    "import sys \n",
    "print(\"Python version\",sys.version)"
   ]
  },
  {
   "cell_type": "code",
   "execution_count": null,
   "id": "88f9d111",
   "metadata": {},
   "outputs": [],
   "source": [
    "# Now check your version of Numpy and create a matrix\n",
    "import numpy as np\n",
    "print(\"Numpy version\",np.version.version)\n",
    "m = np.array([[1,2],[3,4]])\n",
    "print(m)"
   ]
  },
  {
   "cell_type": "code",
   "execution_count": null,
   "id": "05f4acdd",
   "metadata": {},
   "outputs": [],
   "source": [
    "# Now let's try opening an image and displaying it with Matplotlib:\n",
    "\n",
    "import matplotlib.pyplot as plt\n",
    "%config InlineBackend.figure_formats = 'retina'\n",
    "\n",
    "img = plt.imread('komodo.jpg')\n",
    "plt.axis(\"off\")\n",
    "plt.imshow(img)"
   ]
  },
  {
   "cell_type": "code",
   "execution_count": null,
   "id": "be810c0b",
   "metadata": {},
   "outputs": [],
   "source": [
    "# Lastly, let's open an image using OpenCV\n",
    "import cv2\n",
    "\n",
    "print(\"OpenCV version\",cv2.__version__)\n",
    "image = cv2.imread('komodo.jpg')\n",
    "\n",
    "# OpenCV loads images in BGR format; convert to RGB for proper display\n",
    "image_rgb = cv2.cvtColor(image, cv2.COLOR_BGR2RGB)\n",
    "\n",
    "# Display the image with matplotlib\n",
    "plt.axis(\"off\")\n",
    "plt.imshow(image_rgb)\n",
    "plt.show()"
   ]
  },
  {
   "cell_type": "markdown",
   "id": "e1614df3",
   "metadata": {},
   "source": [
    "# You're good to go!"
   ]
  }
 ],
 "metadata": {
  "kernelspec": {
   "display_name": "base",
   "language": "python",
   "name": "python3"
  },
  "language_info": {
   "codemirror_mode": {
    "name": "ipython",
    "version": 3
   },
   "file_extension": ".py",
   "mimetype": "text/x-python",
   "name": "python",
   "nbconvert_exporter": "python",
   "pygments_lexer": "ipython3",
   "version": "3.12.3"
  }
 },
 "nbformat": 4,
 "nbformat_minor": 5
}
